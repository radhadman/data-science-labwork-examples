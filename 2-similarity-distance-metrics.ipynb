{
 "cells": [
  {
   "cell_type": "markdown",
   "metadata": {},
   "source": [
    "# Lab 2: Similarity and Distance Metrics"
   ]
  },
  {
   "cell_type": "markdown",
   "metadata": {},
   "source": [
    "In this lab you will complete implementations of the edit distance (a.k.a Levenshtein distance) and Euclidean distance metrics."
   ]
  },
  {
   "cell_type": "markdown",
   "metadata": {},
   "source": [
    "## Edit Distance"
   ]
  },
  {
   "cell_type": "code",
   "execution_count": 117,
   "metadata": {},
   "outputs": [],
   "source": [
    "import numpy as np\n",
    "import math\n",
    "\n",
    "def edit_distance(w1, w2):\n",
    "    w1 = \"#\" + w1\n",
    "    w2 = \"#\" + w2\n",
    "    \n",
    "    # create matrix, initially filled with zeros\n",
    "    mat = np.zeros((len(w1), len(w2))) \n",
    "    \n",
    "    # fill first row\n",
    "    for i in range(0, len(w2)):\n",
    "        mat[0,i] = i\n",
    "        \n",
    "    # fill first column\n",
    "    for i in range(0, len(w1)):\n",
    "        mat[i,0] = i\n",
    "        \n",
    "    \n",
    "    # fill in the rest\n",
    "    # TO-DO:\n",
    "    \n",
    "  \n",
    "    for i in range(1, len(w1)): # for-loop iterating over row 1 up to length of word 1 (word on top of matrix)\n",
    "        for j in range(1, len(w2)): # nested for-loop iterating over column 1 up to length of word 2 (word on left of matrix)\n",
    "            \n",
    "            w1_char = w1[i]\n",
    "            w2_char = w2[j]\n",
    "            \n",
    "            if (w1_char == w2_char):\n",
    "                mat[i,j] = min(mat[i,j-1], mat[i-1,j], mat[i-1,j-1]) + 0 # case for characters being equal\n",
    "                \n",
    "            else:\n",
    "                mat[i,j] = min(mat[i,j-1], mat[i-1,j], mat[i-1,j-1]) + 1 # case for characters not being equal\n",
    "                \n",
    "                \n",
    "    # just display the matrix - \n",
    "    # no need to return anything\n",
    "    print(mat)\n",
    "    print(\"Above is the edit distance matrix for the two strings. \\n\")\n",
    "    print(\"The edit distance between \" + w1[1:] + \" and \" + w2[1:] + \" is \" + str(mat[len(w1)-1, len(w2)-1]))\n"
   ]
  },
  {
   "cell_type": "markdown",
   "metadata": {},
   "source": [
    "Then call your function:"
   ]
  },
  {
   "cell_type": "code",
   "execution_count": 169,
   "metadata": {
    "scrolled": true
   },
   "outputs": [
    {
     "name": "stdout",
     "output_type": "stream",
     "text": [
      "[[0. 1. 2. 3.]\n",
      " [1. 0. 1. 2.]\n",
      " [2. 1. 1. 2.]\n",
      " [3. 2. 1. 2.]\n",
      " [4. 3. 2. 1.]]\n",
      "Above is the edit distance matrix for the two strings \n",
      "\n",
      "The edit distance between dave and dve is 1.0\n"
     ]
    }
   ],
   "source": [
    "edit_distance(\"dave\", \"dve\")"
   ]
  },
  {
   "cell_type": "markdown",
   "metadata": {},
   "source": [
    "# Euclidean Distance"
   ]
  },
  {
   "cell_type": "markdown",
   "metadata": {},
   "source": [
    "Write a function euclidean() that takes two vectors and returns their Euclidean distance. "
   ]
  },
  {
   "cell_type": "code",
   "execution_count": 174,
   "metadata": {},
   "outputs": [],
   "source": [
    "def euclidean(v1, v2):\n",
    "    print(\"calculating euclidean distance between the vectors...\")\n",
    "    # fill in the rest\n",
    "    # TO-DO\n",
    "    \n",
    "    summation = 0\n",
    "    \n",
    "    for i in range(0, max(len(v1), len(v2))):\n",
    "        summation += (v1[i] - v2[i])**2\n",
    "    \n",
    "    # return the euclidean distance score\n",
    "    return math.sqrt(summation)\n",
    "    \n",
    "    \n",
    "    "
   ]
  },
  {
   "cell_type": "markdown",
   "metadata": {},
   "source": [
    "Then call your function:"
   ]
  },
  {
   "cell_type": "code",
   "execution_count": 175,
   "metadata": {},
   "outputs": [
    {
     "name": "stdout",
     "output_type": "stream",
     "text": [
      "calculating euclidean distance between the vectors...\n",
      "4.47213595499958\n",
      "\n",
      "calculating euclidean distance between the vectors...\n",
      "0.0\n",
      "\n",
      "calculating euclidean distance between the vectors...\n",
      "0.0\n"
     ]
    }
   ],
   "source": [
    "v = np.matrix([[4], [3], [2], [1]])\n",
    "u = np.matrix([[1], [2], [3], [4]])\n",
    "\n",
    "score1 = euclidean(v,u)\n",
    "print(score1)\n",
    "print()\n",
    "# should be 4.47213595499958\n",
    "\n",
    "score2 = euclidean(v,v)\n",
    "print(score2)\n",
    "print()\n",
    "# should be 0.0\n",
    "\n",
    "score3 = euclidean(u,u)\n",
    "print(score3)\n",
    "# should be 0.0"
   ]
  },
  {
   "cell_type": "markdown",
   "metadata": {},
   "source": [
    "# Hints for Completing the Euclidean Distance Implementation"
   ]
  },
  {
   "cell_type": "markdown",
   "metadata": {},
   "source": [
    "* It is possible to implement the function without the use of loops. \n",
    "* To calculate the difference between two vectors, just use the - (minus) symbol. \n",
    "* If you imported numpy as np, then you can use np.square() to square the elements of a vector. \n",
    "* For taking a square root, use math.sqrt(). \n",
    "* If the vectors are not the same length, just truncate the longer one so that they are the same length. \n"
   ]
  },
  {
   "cell_type": "markdown",
   "metadata": {},
   "source": [
    "## __Deliverable__: Submit your completed notebook via Blackboard."
   ]
  }
 ],
 "metadata": {
  "kernelspec": {
   "display_name": "Python 3 (ipykernel)",
   "language": "python",
   "name": "python3"
  },
  "language_info": {
   "codemirror_mode": {
    "name": "ipython",
    "version": 3
   },
   "file_extension": ".py",
   "mimetype": "text/x-python",
   "name": "python",
   "nbconvert_exporter": "python",
   "pygments_lexer": "ipython3",
   "version": "3.8.5"
  }
 },
 "nbformat": 4,
 "nbformat_minor": 2
}
