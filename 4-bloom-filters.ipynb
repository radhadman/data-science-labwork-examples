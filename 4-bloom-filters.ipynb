{
 "cells": [
  {
   "cell_type": "markdown",
   "metadata": {},
   "source": [
    "# Lab 5: Bloom Filters"
   ]
  },
  {
   "cell_type": "markdown",
   "metadata": {},
   "source": [
    "## Overview\n",
    "\n",
    "In this lab, you will create a very simple implementation of a Bloom Filter. This will be for the application of spam filtering, as discussed in the lecture.\n",
    "\n",
    "What you implement here will be a very simple demonstration of the basic concept of Bloom Filters, and is not an actual demonstration of applying Bloom Filters to massively large streaming data. The latter topic could be a fun term project idea, however, if you wanted to create your own scalable implementation of a Bloom Filter for some application. The point of this lab is to get a conceptual understanding of how Bloom Filters work.\n"
   ]
  },
  {
   "cell_type": "markdown",
   "metadata": {},
   "source": [
    "## Bit Array\n",
    "\n",
    "For this simple example, we will use a Python list as our bit array. Here is a quick way of creating a list of length 100 containing only zeroes:\n",
    "\n",
    "Here is an example of indexing a list in Python:\n",
    "\n"
   ]
  },
  {
   "cell_type": "code",
   "execution_count": 1,
   "metadata": {},
   "outputs": [
    {
     "name": "stdout",
     "output_type": "stream",
     "text": [
      "0\n"
     ]
    }
   ],
   "source": [
    "bit_array = [0] * 100\n",
    "\n",
    "print(bit_array[15])"
   ]
  },
  {
   "cell_type": "markdown",
   "metadata": {},
   "source": [
    "# Hash Functions\n",
    "\n",
    "Python has a built-in hash function. However, it has some drawbacks. One drawback is that it is not guaranteed to give the same hash value for each strings across multiple runs and platforms."
   ]
  },
  {
   "cell_type": "code",
   "execution_count": 2,
   "metadata": {},
   "outputs": [
    {
     "name": "stdout",
     "output_type": "stream",
     "text": [
      "-666454428533780172\n"
     ]
    }
   ],
   "source": [
    "print(hash(\"hello, world\"))"
   ]
  },
  {
   "cell_type": "markdown",
   "metadata": {},
   "source": [
    "For that reason, we will instead use a hash function from the hashlib package. Below we use the md5 hash funtion. Feel free to try others if you wish. \n",
    "\n",
    "Notice that it gives us a hexadecimal hash value, which we then convert to an integer."
   ]
  },
  {
   "cell_type": "code",
   "execution_count": 3,
   "metadata": {},
   "outputs": [
    {
     "name": "stdout",
     "output_type": "stream",
     "text": [
      "304185229258733413035657561131064597924\n"
     ]
    }
   ],
   "source": [
    "import hashlib\n",
    "\n",
    "hash_object = hashlib.md5(b\"hello, world\")\n",
    "\n",
    "hash_hex = hash_object.hexdigest()\n",
    "\n",
    "hash_int = int(hash_hex, 16)\n",
    "\n",
    "print(hash_int)"
   ]
  },
  {
   "cell_type": "markdown",
   "metadata": {},
   "source": [
    "Some hash functions can return negative values. Since we are wanting to use the hash value as an index into the bit array, it can't be negative. So we could take the absolute value."
   ]
  },
  {
   "cell_type": "code",
   "execution_count": 4,
   "metadata": {},
   "outputs": [
    {
     "name": "stdout",
     "output_type": "stream",
     "text": [
      "304185229258733413035657561131064597924\n"
     ]
    }
   ],
   "source": [
    "hash_abs = abs(hash_int)\n",
    "print(hash_abs)"
   ]
  },
  {
   "cell_type": "markdown",
   "metadata": {},
   "source": [
    "Finally, we need to do a modulo by the size of the bit array so that it is a valid index within the length of the array. "
   ]
  },
  {
   "cell_type": "code",
   "execution_count": 5,
   "metadata": {},
   "outputs": [
    {
     "name": "stdout",
     "output_type": "stream",
     "text": [
      "24\n"
     ]
    }
   ],
   "source": [
    "hash_index = hash_abs % len(bit_array)\n",
    "print(hash_index)"
   ]
  },
  {
   "cell_type": "markdown",
   "metadata": {},
   "source": [
    "Now we can use that value as an index into the bit array, i.e. use it to get or set the value at index 24. "
   ]
  },
  {
   "cell_type": "markdown",
   "metadata": {},
   "source": [
    "# Lab Assignment\n",
    "\n",
    "In your notebook below, do the following steps:\n",
    "\n",
    "* You will end up using three lists:\n",
    "  * One list representing the bit array.\n",
    "  * One list containing allowed email addresses. \n",
    "  * One list containing a mix of allowed and spam addresses.\n",
    "* Create the bit array using a Python list. Make it small (e.g. size 10 or 20) for the purposes of this lab. Normally we would make it extremely large to try to avoid collisions, but here it will be instructive to see how collisions happen.\n",
    "* Create a small list of allowed (non-spam) email addresses (strings). For example, this could be your own email address and a couple of your friends’ email addresses.\n",
    "* Write a loop that iterates over the allowed email addresses, hashes each one and sets the corresponding bit of the bit array to 1.\n",
    "* Now create a small list of new email addresses, e.g. a mix of friendly and spam addresses. Loop over this second list, hash each email address and check whether the corresponding bit of the bit array is 1. \n",
    "* For each of the new email addresses, just print out a message about whether it is spam or not.\n",
    "\n",
    "Are there false positives, i.e. spams that got through? If so, make sure you understand how they got through (because of collisions). Try making the bit array much larger and see if there are any false positives now.\n",
    "\n",
    "_Optional_: If you finish the above steps quickly, try using multiple hash functions. You can explore hashlib to see which hash functions are available.\n",
    "\n",
    "__Submit your completed notebook via Blackboard.__\n"
   ]
  },
  {
   "cell_type": "code",
   "execution_count": 7,
   "metadata": {},
   "outputs": [
    {
     "name": "stdout",
     "output_type": "stream",
     "text": [
      "Index 0 [0, 1, 0, 0, 0, 0, 0, 0, 0, 0]\n",
      "Index 1 [0, 1, 0, 0, 0, 0, 0, 1, 0, 0]\n",
      "Index 2 [0, 1, 0, 0, 0, 0, 1, 1, 0, 0]\n",
      "\n",
      "Index 0 [0, 1, 0, 0, 0, 0, 1, 1, 0, 0]\n",
      "Index 1 [0, 1, 1, 0, 0, 0, 1, 1, 0, 0]\n",
      "Index 2 [1, 1, 1, 0, 0, 0, 1, 1, 0, 0]\n"
     ]
    }
   ],
   "source": [
    "import hashlib\n",
    "\n",
    "# YOUR CODE HERE\n",
    "new_array = [0]  * 10\n",
    "\n",
    "# allowed emails\n",
    "emails = [\"haddon_james@hotmail.com\", \"haddon.sawatzky@student.ufv.ca\", \"hankdank2@hotmail.com\"]\n",
    "\n",
    "for i in range (0,3):\n",
    "    new_hash_object = hashlib.md5(emails[i].encode('utf-8'))\n",
    "    new_hash_hex = new_hash_object.hexdigest()\n",
    "    new_hash_int = int(new_hash_hex, 16)\n",
    "    new_hash_abs = abs(new_hash_int)\n",
    "    new_hash_index = new_hash_abs % len(new_array)\n",
    "    new_array[new_hash_index] = 1\n",
    "    print(\"Index\", i, new_array)\n",
    "    \n",
    "emails2 = [\"haddon.sawatzky@student.ufv.ca\", \"spam@hotmail.com\", \"spam2@gmail.com\"]\n",
    "print()\n",
    "\n",
    "for i in range (0,3):\n",
    "    new_hash_object = hashlib.md5(emails2[i].encode('utf-8'))\n",
    "    new_hash_hex = new_hash_object.hexdigest()\n",
    "    new_hash_int = int(new_hash_hex, 16)\n",
    "    new_hash_abs = abs(new_hash_int)\n",
    "    new_hash_index = new_hash_abs % len(new_array)\n",
    "    new_array[new_hash_index] = 1\n",
    "    print(\"Index\", i, new_array)\n",
    "    \n",
    "# Output shows that as we hash over the mix of spam and accepted emails, that the bit array changes at Index 1 & Index2,\n",
    "# so we can deduce that the spam emails are at Index 1 and 2 of the array emails2 (spam@hotmail.com and spam2@gmail.com)\n"
   ]
  },
  {
   "cell_type": "code",
   "execution_count": null,
   "metadata": {},
   "outputs": [],
   "source": []
  }
 ],
 "metadata": {
  "kernelspec": {
   "display_name": "Python 3 (ipykernel)",
   "language": "python",
   "name": "python3"
  },
  "language_info": {
   "codemirror_mode": {
    "name": "ipython",
    "version": 3
   },
   "file_extension": ".py",
   "mimetype": "text/x-python",
   "name": "python",
   "nbconvert_exporter": "python",
   "pygments_lexer": "ipython3",
   "version": "3.8.5"
  }
 },
 "nbformat": 4,
 "nbformat_minor": 2
}
