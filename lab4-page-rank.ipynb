{
 "cells": [
  {
   "cell_type": "markdown",
   "metadata": {},
   "source": [
    "# COMP 455\n",
    "\n",
    "# Lab 4: PageRank"
   ]
  },
  {
   "cell_type": "code",
   "execution_count": null,
   "metadata": {
    "collapsed": true
   },
   "outputs": [],
   "source": [
    "import numpy as np "
   ]
  },
  {
   "cell_type": "markdown",
   "metadata": {},
   "source": [
    "This is the example transition matrix from the lecture:"
   ]
  },
  {
   "cell_type": "code",
   "execution_count": 63,
   "metadata": {},
   "outputs": [
    {
     "name": "stdout",
     "output_type": "stream",
     "text": [
      "[[ 0.          0.5         0.          0.        ]\n",
      " [ 0.33333333  0.          0.          0.5       ]\n",
      " [ 0.33333333  0.          1.          0.5       ]\n",
      " [ 0.33333333  0.5         0.          0.        ]]\n"
     ]
    }
   ],
   "source": [
    "M = np.matrix([[0, 1/2, 0, 0], [1/3, 0, 0, 1/2],  [1/3, 0, 1, 1/2],  [1/3, 1/2, 0, 0]])\n",
    "print(M)"
   ]
  },
  {
   "cell_type": "markdown",
   "metadata": {},
   "source": [
    "And here is our initial vector:"
   ]
  },
  {
   "cell_type": "code",
   "execution_count": null,
   "metadata": {},
   "outputs": [],
   "source": [
    "v = np.matrix([[0.25], [0.25], [0.25], [0.25]])\n",
    "print(v)"
   ]
  },
  {
   "cell_type": "markdown",
   "metadata": {},
   "source": [
    "And here is how we can multiply them, representing one step by our random surfer:\n"
   ]
  },
  {
   "cell_type": "code",
   "execution_count": null,
   "metadata": {},
   "outputs": [],
   "source": [
    "print(M*v)"
   ]
  },
  {
   "cell_type": "markdown",
   "metadata": {},
   "source": [
    "# Lab Assignment\n",
    "\n",
    "Finish an implementation of this running example from the lecture:\n",
    "\n",
    "* For taxation, use a  value of 0.8. \n",
    "* Multiply the transition matrix by that value. \n",
    "* Create a vector representing the tax term (see slide 33 from lecture). \n",
    "* Write a for loop that does 20 steps of the random surfer, using the tax term in the updates. \n",
    "* Show the resulting vector after 20 steps. \n",
    "\n",
    "The state vector after 20 steps should be close to this:\n",
    "\n",
    "[[ 0.10135484]\n",
    " [ 0.12838347]\n",
    " [ 0.64187822]\n",
    " [ 0.12838347]]\n"
   ]
  },
  {
   "cell_type": "code",
   "execution_count": 75,
   "metadata": {},
   "outputs": [
    {
     "name": "stdout",
     "output_type": "stream",
     "text": [
      "M = \n",
      " [[ 0.          0.5         0.          0.        ]\n",
      " [ 0.33333333  0.          0.          0.5       ]\n",
      " [ 0.33333333  0.          1.          0.5       ]\n",
      " [ 0.33333333  0.5         0.          0.        ]]\n",
      "\n",
      "v = \n",
      " [[ 0.25]\n",
      " [ 0.25]\n",
      " [ 0.25]\n",
      " [ 0.25]]\n",
      "\n",
      "M*beta = \n",
      " [[ 0.          0.4         0.          0.        ]\n",
      " [ 0.26666667  0.          0.          0.4       ]\n",
      " [ 0.26666667  0.          0.8         0.4       ]\n",
      " [ 0.26666667  0.4         0.          0.        ]]\n",
      "\n",
      "taxation term = \n",
      " [[ 0.05]\n",
      " [ 0.05]\n",
      " [ 0.05]\n",
      " [ 0.05]]\n",
      "\n",
      "Resultant vector = \n",
      " [[ 0.10135339]\n",
      " [ 0.12838135]\n",
      " [ 0.64188392]\n",
      " [ 0.12838135]]\n"
     ]
    }
   ],
   "source": [
    "import numpy as np\n",
    "\n",
    "M = np.matrix([[0, 1/2, 0, 0], [1/3, 0, 0, 1/2],  [1/3, 0, 1, 1/2],  [1/3, 1/2, 0, 0]])\n",
    "print(\"M = \\n\", M)\n",
    "print()\n",
    "\n",
    "v = np.matrix([[0.25], [0.25], [0.25], [0.25]])\n",
    "print(\"v = \\n\", v)\n",
    "print()\n",
    "\n",
    "\n",
    "beta = 0.8\n",
    "M = M*beta\n",
    "print(\"M*beta = \\n\", M)\n",
    "print()\n",
    "\n",
    "e = np.matrix([[1],[1],[1],[1]])\n",
    "n = 4\n",
    "tax_term = (1 - beta)*(e/n)\n",
    "print(\"taxation term = \\n\", tax_term)\n",
    "print()\n",
    "\n",
    "resultant_v = v\n",
    "for i in range(20):\n",
    "    resultant_v = M*resultant_v + tax_term\n",
    "\n",
    "print(\"Resultant vector = \\n\", resultant_v)"
   ]
  },
  {
   "cell_type": "code",
   "execution_count": null,
   "metadata": {
    "collapsed": true
   },
   "outputs": [],
   "source": []
  }
 ],
 "metadata": {
  "kernelspec": {
   "display_name": "Python 3",
   "language": "python",
   "name": "python3"
  },
  "language_info": {
   "codemirror_mode": {
    "name": "ipython",
    "version": 3
   },
   "file_extension": ".py",
   "mimetype": "text/x-python",
   "name": "python",
   "nbconvert_exporter": "python",
   "pygments_lexer": "ipython3",
   "version": "3.6.3"
  }
 },
 "nbformat": 4,
 "nbformat_minor": 2
}
